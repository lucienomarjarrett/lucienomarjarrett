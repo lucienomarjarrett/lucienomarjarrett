{
  "nbformat": 4,
  "nbformat_minor": 0,
  "metadata": {
    "colab": {
      "name": "attrs_module.ipynb",
      "provenance": [],
      "authorship_tag": "ABX9TyN41MI5FakUIPy6i/3Zdynx",
      "include_colab_link": true
    },
    "kernelspec": {
      "name": "python3",
      "display_name": "Python 3"
    },
    "language_info": {
      "name": "python"
    }
  },
  "cells": [
    {
      "cell_type": "markdown",
      "metadata": {
        "id": "view-in-github",
        "colab_type": "text"
      },
      "source": [
        "<a href=\"https://colab.research.google.com/github/lucienomarjarrett/lucienomarjarrett/blob/main/attrs_module.ipynb\" target=\"_parent\"><img src=\"https://colab.research.google.com/assets/colab-badge.svg\" alt=\"Open In Colab\"/></a>"
      ]
    },
    {
      "cell_type": "code",
      "source": [
        "import attr"
      ],
      "metadata": {
        "id": "mC903GI2j_oA"
      },
      "execution_count": 79,
      "outputs": []
    },
    {
      "cell_type": "code",
      "source": [
        "@attrs\n",
        "class Person(object):\n",
        "    name = attrib(default=\"Chris\")\n",
        "    age = attrib(default=32) \n",
        "    skills = attrib(factory=list) # initialise with a default value\n",
        "\n",
        "p1 = Person()\n",
        "p2 = Person(\"Chris\", 32)"
      ],
      "metadata": {
        "id": "HCcb7iY0jWDk"
      },
      "execution_count": 80,
      "outputs": []
    },
    {
      "cell_type": "code",
      "source": [
        "p1, p2"
      ],
      "metadata": {
        "colab": {
          "base_uri": "https://localhost:8080/"
        },
        "id": "X0gEjuXNlfQo",
        "outputId": "51221670-6723-45e3-8283-f38ab8f66e83"
      },
      "execution_count": 81,
      "outputs": [
        {
          "output_type": "execute_result",
          "data": {
            "text/plain": [
              "(Person(name='Chris', age=32, skills=[]),\n",
              " Person(name='Chris', age=32, skills=[]))"
            ]
          },
          "metadata": {},
          "execution_count": 81
        }
      ]
    },
    {
      "cell_type": "code",
      "source": [
        "p1.skills.append('Python')\n",
        "p2.skills.append('Javascript')"
      ],
      "metadata": {
        "id": "DMTSjw_JmaKn"
      },
      "execution_count": 82,
      "outputs": []
    },
    {
      "cell_type": "code",
      "source": [
        "\n",
        "class Person(object):\n",
        "  def __init__(self,name:str, age:int) -> None:\n",
        "      self.name = name\n",
        "      self.age = age\n",
        "\n",
        "p1 = Person(\"Chris\", 32)\n",
        "p2 = Person(\"Chris\", 32)"
      ],
      "metadata": {
        "id": "OHDVPfbgkkW5"
      },
      "execution_count": 83,
      "outputs": []
    },
    {
      "cell_type": "code",
      "source": [
        "p1"
      ],
      "metadata": {
        "colab": {
          "base_uri": "https://localhost:8080/"
        },
        "id": "aX6h9c5bmqYX",
        "outputId": "1a077945-5aea-43a6-dbd0-e6e3b7b8ffc2"
      },
      "execution_count": 84,
      "outputs": [
        {
          "output_type": "execute_result",
          "data": {
            "text/plain": [
              "<__main__.Person at 0x7fb0ff7d1e10>"
            ]
          },
          "metadata": {},
          "execution_count": 84
        }
      ]
    },
    {
      "cell_type": "markdown",
      "source": [
        ""
      ],
      "metadata": {
        "id": "U1695PaSlbl0"
      }
    },
    {
      "cell_type": "code",
      "source": [
        "p1 == p2"
      ],
      "metadata": {
        "colab": {
          "base_uri": "https://localhost:8080/"
        },
        "id": "Y0_Lx1c6k19S",
        "outputId": "60d3ab19-b5b9-4dc0-bed7-36f34176335e"
      },
      "execution_count": 85,
      "outputs": [
        {
          "output_type": "execute_result",
          "data": {
            "text/plain": [
              "False"
            ]
          },
          "metadata": {},
          "execution_count": 85
        }
      ]
    },
    {
      "cell_type": "code",
      "source": [
        "@attrs\n",
        "class Student(object):\n",
        "  name = attrib()\n",
        "  age = attrib()\n",
        "  student_id = attrib()\n",
        "\n",
        "  @student_id.validator\n",
        "  def check_student_id(self, attribute, value):\n",
        "    if len(str(value)) !=6:\n",
        "      raise ValueError(f'student_id must be 6 characters! got {len(str(value))}')\n",
        "\n",
        "  "
      ],
      "metadata": {
        "id": "Y-2JdxA4m3iN"
      },
      "execution_count": 86,
      "outputs": []
    },
    {
      "cell_type": "code",
      "source": [
        "s1 = Student(\"Lucien\", 42, 123456)"
      ],
      "metadata": {
        "id": "5QARxCL7n0Z4"
      },
      "execution_count": 74,
      "outputs": []
    },
    {
      "cell_type": "code",
      "source": [
        "s1"
      ],
      "metadata": {
        "colab": {
          "base_uri": "https://localhost:8080/"
        },
        "id": "gibfrmuOn-vS",
        "outputId": "fa4c2d32-d579-41fa-8031-6923c6d3a635"
      },
      "execution_count": 75,
      "outputs": [
        {
          "output_type": "execute_result",
          "data": {
            "text/plain": [
              "Student(name='Lucien', age=42, student_id=123456)"
            ]
          },
          "metadata": {},
          "execution_count": 75
        }
      ]
    },
    {
      "cell_type": "code",
      "source": [
        "@attrs \n",
        "class Person(object):\n",
        "  name = attrib()\n",
        "  age = attrib()\n",
        "\n",
        "  def get_name(self):\n",
        "    return self.name\n",
        "\n",
        "\n",
        "@attrs \n",
        "class User(object):\n",
        "  user_id = attrib()\n",
        "\n",
        "  def get_user_id(self):\n",
        "    return self.user_id\n",
        "\n",
        "@attrs \n",
        "class Student(Person, User):\n",
        "  student_id = attrib()\n",
        "\n",
        "  def get_student_id(self):\n",
        "    return self.student_id\n",
        "\n",
        "\n",
        "student = Student('Lucien', 32, 'ljarrett', 123456) \n"
      ],
      "metadata": {
        "id": "kwh-JA4polxl"
      },
      "execution_count": 76,
      "outputs": []
    },
    {
      "cell_type": "code",
      "source": [
        "student\n",
        "(student.get_name(),\n",
        "student.get_student_id(),\n",
        "student.get_user_id())"
      ],
      "metadata": {
        "colab": {
          "base_uri": "https://localhost:8080/"
        },
        "id": "J1-95HVsqAvP",
        "outputId": "3aa58a75-b8f9-4112-876b-a1fa76735fc2"
      },
      "execution_count": 77,
      "outputs": [
        {
          "output_type": "execute_result",
          "data": {
            "text/plain": [
              "('Lucien', 123456, 'ljarrett')"
            ]
          },
          "metadata": {},
          "execution_count": 77
        }
      ]
    },
    {
      "cell_type": "code",
      "source": [
        "attr.asdict(student)"
      ],
      "metadata": {
        "colab": {
          "base_uri": "https://localhost:8080/"
        },
        "id": "PrXWovfSqcYX",
        "outputId": "5ae584c6-568a-4ccb-d73c-a8fd66482d6d"
      },
      "execution_count": 87,
      "outputs": [
        {
          "output_type": "execute_result",
          "data": {
            "text/plain": [
              "{'age': 32, 'name': 'Lucien', 'student_id': 123456, 'user_id': 'ljarrett'}"
            ]
          },
          "metadata": {},
          "execution_count": 87
        }
      ]
    }
  ]
}